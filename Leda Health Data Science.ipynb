{
 "cells": [
  {
   "cell_type": "code",
   "execution_count": 67,
   "metadata": {},
   "outputs": [],
   "source": [
    "import pandas as pd\n",
    "import matplotlib.pyplot as plt"
   ]
  },
  {
   "cell_type": "markdown",
   "metadata": {},
   "source": [
    "<h3>Reading the file</h3>"
   ]
  },
  {
   "cell_type": "code",
   "execution_count": 3,
   "metadata": {},
   "outputs": [],
   "source": [
    "df = pd.read_csv(\"data-intern.csv\",skiprows=3,engine='python')"
   ]
  },
  {
   "cell_type": "code",
   "execution_count": 4,
   "metadata": {},
   "outputs": [],
   "source": [
    "df = df.iloc[:,1:]"
   ]
  },
  {
   "cell_type": "code",
   "execution_count": 66,
   "metadata": {},
   "outputs": [
    {
     "data": {
      "text/html": [
       "<div>\n",
       "<style scoped>\n",
       "    .dataframe tbody tr th:only-of-type {\n",
       "        vertical-align: middle;\n",
       "    }\n",
       "\n",
       "    .dataframe tbody tr th {\n",
       "        vertical-align: top;\n",
       "    }\n",
       "\n",
       "    .dataframe thead th {\n",
       "        text-align: right;\n",
       "    }\n",
       "</style>\n",
       "<table border=\"1\" class=\"dataframe\">\n",
       "  <thead>\n",
       "    <tr style=\"text-align: right;\">\n",
       "      <th></th>\n",
       "      <th>sexassault</th>\n",
       "      <th>Are you located in the United States?</th>\n",
       "      <th>What gender do you identify as?</th>\n",
       "      <th>Gender.Other</th>\n",
       "      <th>How is COVID-19 affecting your mental health? I feel ..</th>\n",
       "      <th>Currently, are you willing to leave the house to see a doctor?</th>\n",
       "      <th>priority</th>\n",
       "      <th>The government is doing a great job with handling the COVID-19 epidemic.</th>\n",
       "      <th>Do you have a partner?</th>\n",
       "      <th>Partner.Other</th>\n",
       "      <th>...</th>\n",
       "      <th>If you are a survivor of sexual assault, would you use an at-home SAEK (Sexual Assault Evidence Kit) if available?</th>\n",
       "      <th>trustpolice</th>\n",
       "      <th>If you were assaulted during the ongoing pandemic, do you feel comfortable calling a hotline, such as RAINN?</th>\n",
       "      <th>Ethnicity</th>\n",
       "      <th>Sexual Orientation</th>\n",
       "      <th>Sexual.Orientation.Other</th>\n",
       "      <th>If you've finished this survey, please type in the code: HB1495 on MTurk, and click yes here.</th>\n",
       "      <th>Start Date (UTC)</th>\n",
       "      <th>Submit Date (UTC)</th>\n",
       "      <th>Network ID</th>\n",
       "    </tr>\n",
       "    <tr>\n",
       "      <th>Age</th>\n",
       "      <th></th>\n",
       "      <th></th>\n",
       "      <th></th>\n",
       "      <th></th>\n",
       "      <th></th>\n",
       "      <th></th>\n",
       "      <th></th>\n",
       "      <th></th>\n",
       "      <th></th>\n",
       "      <th></th>\n",
       "      <th></th>\n",
       "      <th></th>\n",
       "      <th></th>\n",
       "      <th></th>\n",
       "      <th></th>\n",
       "      <th></th>\n",
       "      <th></th>\n",
       "      <th></th>\n",
       "      <th></th>\n",
       "      <th></th>\n",
       "      <th></th>\n",
       "    </tr>\n",
       "  </thead>\n",
       "  <tbody>\n",
       "    <tr>\n",
       "      <td>18 - 24</td>\n",
       "      <td>228</td>\n",
       "      <td>228</td>\n",
       "      <td>228</td>\n",
       "      <td>228</td>\n",
       "      <td>228</td>\n",
       "      <td>228</td>\n",
       "      <td>228</td>\n",
       "      <td>228</td>\n",
       "      <td>228</td>\n",
       "      <td>228</td>\n",
       "      <td>...</td>\n",
       "      <td>228</td>\n",
       "      <td>228</td>\n",
       "      <td>228</td>\n",
       "      <td>228</td>\n",
       "      <td>228</td>\n",
       "      <td>228</td>\n",
       "      <td>228</td>\n",
       "      <td>228</td>\n",
       "      <td>228</td>\n",
       "      <td>228</td>\n",
       "    </tr>\n",
       "    <tr>\n",
       "      <td>25 - 34</td>\n",
       "      <td>376</td>\n",
       "      <td>376</td>\n",
       "      <td>376</td>\n",
       "      <td>376</td>\n",
       "      <td>376</td>\n",
       "      <td>376</td>\n",
       "      <td>376</td>\n",
       "      <td>376</td>\n",
       "      <td>376</td>\n",
       "      <td>376</td>\n",
       "      <td>...</td>\n",
       "      <td>376</td>\n",
       "      <td>376</td>\n",
       "      <td>376</td>\n",
       "      <td>376</td>\n",
       "      <td>376</td>\n",
       "      <td>376</td>\n",
       "      <td>376</td>\n",
       "      <td>376</td>\n",
       "      <td>376</td>\n",
       "      <td>376</td>\n",
       "    </tr>\n",
       "    <tr>\n",
       "      <td>35 - 44</td>\n",
       "      <td>205</td>\n",
       "      <td>205</td>\n",
       "      <td>205</td>\n",
       "      <td>205</td>\n",
       "      <td>205</td>\n",
       "      <td>205</td>\n",
       "      <td>205</td>\n",
       "      <td>205</td>\n",
       "      <td>205</td>\n",
       "      <td>205</td>\n",
       "      <td>...</td>\n",
       "      <td>205</td>\n",
       "      <td>205</td>\n",
       "      <td>205</td>\n",
       "      <td>205</td>\n",
       "      <td>205</td>\n",
       "      <td>205</td>\n",
       "      <td>205</td>\n",
       "      <td>205</td>\n",
       "      <td>205</td>\n",
       "      <td>205</td>\n",
       "    </tr>\n",
       "    <tr>\n",
       "      <td>45 - 54</td>\n",
       "      <td>79</td>\n",
       "      <td>79</td>\n",
       "      <td>79</td>\n",
       "      <td>79</td>\n",
       "      <td>79</td>\n",
       "      <td>79</td>\n",
       "      <td>79</td>\n",
       "      <td>79</td>\n",
       "      <td>79</td>\n",
       "      <td>79</td>\n",
       "      <td>...</td>\n",
       "      <td>79</td>\n",
       "      <td>79</td>\n",
       "      <td>79</td>\n",
       "      <td>79</td>\n",
       "      <td>79</td>\n",
       "      <td>79</td>\n",
       "      <td>79</td>\n",
       "      <td>79</td>\n",
       "      <td>79</td>\n",
       "      <td>79</td>\n",
       "    </tr>\n",
       "    <tr>\n",
       "      <td>55 - 74</td>\n",
       "      <td>46</td>\n",
       "      <td>46</td>\n",
       "      <td>46</td>\n",
       "      <td>46</td>\n",
       "      <td>46</td>\n",
       "      <td>46</td>\n",
       "      <td>46</td>\n",
       "      <td>46</td>\n",
       "      <td>46</td>\n",
       "      <td>46</td>\n",
       "      <td>...</td>\n",
       "      <td>46</td>\n",
       "      <td>46</td>\n",
       "      <td>46</td>\n",
       "      <td>46</td>\n",
       "      <td>46</td>\n",
       "      <td>46</td>\n",
       "      <td>46</td>\n",
       "      <td>46</td>\n",
       "      <td>46</td>\n",
       "      <td>46</td>\n",
       "    </tr>\n",
       "    <tr>\n",
       "      <td>75 or order</td>\n",
       "      <td>2</td>\n",
       "      <td>2</td>\n",
       "      <td>2</td>\n",
       "      <td>2</td>\n",
       "      <td>2</td>\n",
       "      <td>2</td>\n",
       "      <td>2</td>\n",
       "      <td>2</td>\n",
       "      <td>2</td>\n",
       "      <td>2</td>\n",
       "      <td>...</td>\n",
       "      <td>2</td>\n",
       "      <td>2</td>\n",
       "      <td>2</td>\n",
       "      <td>2</td>\n",
       "      <td>2</td>\n",
       "      <td>2</td>\n",
       "      <td>2</td>\n",
       "      <td>2</td>\n",
       "      <td>2</td>\n",
       "      <td>2</td>\n",
       "    </tr>\n",
       "    <tr>\n",
       "      <td>Under 18</td>\n",
       "      <td>3</td>\n",
       "      <td>3</td>\n",
       "      <td>3</td>\n",
       "      <td>3</td>\n",
       "      <td>3</td>\n",
       "      <td>3</td>\n",
       "      <td>3</td>\n",
       "      <td>3</td>\n",
       "      <td>3</td>\n",
       "      <td>3</td>\n",
       "      <td>...</td>\n",
       "      <td>3</td>\n",
       "      <td>3</td>\n",
       "      <td>3</td>\n",
       "      <td>3</td>\n",
       "      <td>3</td>\n",
       "      <td>3</td>\n",
       "      <td>3</td>\n",
       "      <td>3</td>\n",
       "      <td>3</td>\n",
       "      <td>3</td>\n",
       "    </tr>\n",
       "  </tbody>\n",
       "</table>\n",
       "<p>7 rows × 37 columns</p>\n",
       "</div>"
      ],
      "text/plain": [
       "             sexassault  Are you located in the United States?  \\\n",
       "Age                                                              \n",
       "18 - 24             228                                    228   \n",
       "25 - 34             376                                    376   \n",
       "35 - 44             205                                    205   \n",
       "45 - 54              79                                     79   \n",
       "55 - 74              46                                     46   \n",
       "75 or order           2                                      2   \n",
       "Under 18              3                                      3   \n",
       "\n",
       "             What gender do you identify as?  Gender.Other  \\\n",
       "Age                                                          \n",
       "18 - 24                                  228           228   \n",
       "25 - 34                                  376           376   \n",
       "35 - 44                                  205           205   \n",
       "45 - 54                                   79            79   \n",
       "55 - 74                                   46            46   \n",
       "75 or order                                2             2   \n",
       "Under 18                                   3             3   \n",
       "\n",
       "             How is COVID-19 affecting your mental health? I feel ..  \\\n",
       "Age                                                                    \n",
       "18 - 24                                                    228         \n",
       "25 - 34                                                    376         \n",
       "35 - 44                                                    205         \n",
       "45 - 54                                                     79         \n",
       "55 - 74                                                     46         \n",
       "75 or order                                                  2         \n",
       "Under 18                                                     3         \n",
       "\n",
       "             Currently, are you willing to leave the house to see a doctor?  \\\n",
       "Age                                                                           \n",
       "18 - 24                                                    228                \n",
       "25 - 34                                                    376                \n",
       "35 - 44                                                    205                \n",
       "45 - 54                                                     79                \n",
       "55 - 74                                                     46                \n",
       "75 or order                                                  2                \n",
       "Under 18                                                     3                \n",
       "\n",
       "             priority  \\\n",
       "Age                     \n",
       "18 - 24           228   \n",
       "25 - 34           376   \n",
       "35 - 44           205   \n",
       "45 - 54            79   \n",
       "55 - 74            46   \n",
       "75 or order         2   \n",
       "Under 18            3   \n",
       "\n",
       "             The government is doing a great job with handling the COVID-19 epidemic.  \\\n",
       "Age                                                                                     \n",
       "18 - 24                                                    228                          \n",
       "25 - 34                                                    376                          \n",
       "35 - 44                                                    205                          \n",
       "45 - 54                                                     79                          \n",
       "55 - 74                                                     46                          \n",
       "75 or order                                                  2                          \n",
       "Under 18                                                     3                          \n",
       "\n",
       "             Do you have a partner?   Partner.Other  ...  \\\n",
       "Age                                                  ...   \n",
       "18 - 24                          228            228  ...   \n",
       "25 - 34                          376            376  ...   \n",
       "35 - 44                          205            205  ...   \n",
       "45 - 54                           79             79  ...   \n",
       "55 - 74                           46             46  ...   \n",
       "75 or order                        2              2  ...   \n",
       "Under 18                           3              3  ...   \n",
       "\n",
       "             If you are a survivor of sexual assault, would you use an at-home SAEK (Sexual Assault Evidence Kit) if available?  \\\n",
       "Age                                                                                                                               \n",
       "18 - 24                                                    228                                                                    \n",
       "25 - 34                                                    376                                                                    \n",
       "35 - 44                                                    205                                                                    \n",
       "45 - 54                                                     79                                                                    \n",
       "55 - 74                                                     46                                                                    \n",
       "75 or order                                                  2                                                                    \n",
       "Under 18                                                     3                                                                    \n",
       "\n",
       "             trustpolice  \\\n",
       "Age                        \n",
       "18 - 24              228   \n",
       "25 - 34              376   \n",
       "35 - 44              205   \n",
       "45 - 54               79   \n",
       "55 - 74               46   \n",
       "75 or order            2   \n",
       "Under 18               3   \n",
       "\n",
       "             If you were assaulted during the ongoing pandemic, do you feel comfortable calling a hotline, such as RAINN?  \\\n",
       "Age                                                                                                                         \n",
       "18 - 24                                                    228                                                              \n",
       "25 - 34                                                    376                                                              \n",
       "35 - 44                                                    205                                                              \n",
       "45 - 54                                                     79                                                              \n",
       "55 - 74                                                     46                                                              \n",
       "75 or order                                                  2                                                              \n",
       "Under 18                                                     3                                                              \n",
       "\n",
       "             Ethnicity   Sexual Orientation  Sexual.Orientation.Other  \\\n",
       "Age                                                                     \n",
       "18 - 24             228                 228                       228   \n",
       "25 - 34             376                 376                       376   \n",
       "35 - 44             205                 205                       205   \n",
       "45 - 54              79                  79                        79   \n",
       "55 - 74              46                  46                        46   \n",
       "75 or order           2                   2                         2   \n",
       "Under 18              3                   3                         3   \n",
       "\n",
       "             If you've finished this survey, please type in the code: HB1495 on MTurk, and click yes here.  \\\n",
       "Age                                                                                                          \n",
       "18 - 24                                                    228                                               \n",
       "25 - 34                                                    376                                               \n",
       "35 - 44                                                    205                                               \n",
       "45 - 54                                                     79                                               \n",
       "55 - 74                                                     46                                               \n",
       "75 or order                                                  2                                               \n",
       "Under 18                                                     3                                               \n",
       "\n",
       "             Start Date (UTC)  Submit Date (UTC)  Network ID  \n",
       "Age                                                           \n",
       "18 - 24                   228                228         228  \n",
       "25 - 34                   376                376         376  \n",
       "35 - 44                   205                205         205  \n",
       "45 - 54                    79                 79          79  \n",
       "55 - 74                    46                 46          46  \n",
       "75 or order                 2                  2           2  \n",
       "Under 18                    3                  3           3  \n",
       "\n",
       "[7 rows x 37 columns]"
      ]
     },
     "execution_count": 66,
     "metadata": {},
     "output_type": "execute_result"
    }
   ],
   "source": [
    "df.groupby('Age').count()"
   ]
  },
  {
   "cell_type": "markdown",
   "metadata": {},
   "source": [
    "As we can see 75 or older and Under 18 are outliers. So, its better to not consider them"
   ]
  },
  {
   "cell_type": "markdown",
   "metadata": {},
   "source": [
    "<h3>Renaming the columns</h3>"
   ]
  },
  {
   "cell_type": "code",
   "execution_count": 26,
   "metadata": {},
   "outputs": [],
   "source": [
    "df.rename(columns={'Are you a survivor of sexual assault?':'sexassault','Did you report your assault to the police? ':'report','Hospitals should prioritize COVID-19 Patients before Sexual Assault Patients.':'priority','Have you previously experienced sexual assault?':'assaultprev','Do you trust the police?':'trustpolice'},inplace=True)"
   ]
  },
  {
   "cell_type": "code",
   "execution_count": 27,
   "metadata": {},
   "outputs": [
    {
     "data": {
      "text/plain": [
       "Index(['Age', 'sexassault', 'Are you located in the United States?',\n",
       "       'What gender do you identify as?', 'Gender.Other',\n",
       "       'How is COVID-19 affecting your mental health? I feel ..',\n",
       "       'Currently, are you willing to leave the house to see a doctor?',\n",
       "       'priority',\n",
       "       'The government is doing a great job with handling the COVID-19 epidemic.',\n",
       "       'Do you have a partner? ', 'Partner.Other',\n",
       "       'How is COVID-19 affecting your partner's mental health? They feel ..',\n",
       "       'Have you and your partner been fighting more frequently since COVID-19's outbreak?',\n",
       "       'Has your partner gotten more sexually aggressive since COVID-19's outbreak?',\n",
       "       'Are you currently experiencing partner on partner abuse?',\n",
       "       'Are you currently experiencing sexual assault?', 'assaultprev',\n",
       "       'Was the assailant the same or opposite sex?', 'report',\n",
       "       'Why didn't you report?',\n",
       "       'Did you have a Sexual Assault Evidence Kit (SAEK) performed?',\n",
       "       'During your SAEK (Sexual Assault Evidence Kit), did you feel comfortable?',\n",
       "       'If you answered no, what did you feel?',\n",
       "       'Are you aware of the current backlog of SAEKs (Sexual Assault Evidence Kits)?',\n",
       "       'Do you think that all survivors of sexual assault should be able to use an at-home kit? ',\n",
       "       'It would be useful to have infographics or videos to train survivors how to use their at-home kit. ',\n",
       "       'Would you feel like you had more autonomy over your body as a sexual assault survivor if you could perform an SAEK (Sexual Assault Evidence Kit) on yourself?',\n",
       "       'Do you think that people should have to face risks of going to the emergency room to receive an SAEK (Sexual Assault Evidence Kit) where there are people who are sick there?',\n",
       "       'If you are a survivor of sexual assault, would you use an at-home SAEK (Sexual Assault Evidence Kit) if available?',\n",
       "       'trustpolice',\n",
       "       'If you were assaulted during the ongoing pandemic, do you feel comfortable calling a hotline, such as RAINN?',\n",
       "       'Ethnicity ', 'Sexual Orientation', 'Sexual.Orientation.Other',\n",
       "       'If you've finished this survey, please type in the code: HB1495 on MTurk, and click yes here.',\n",
       "       'Start Date (UTC)', 'Submit Date (UTC)', 'Network ID'],\n",
       "      dtype='object')"
      ]
     },
     "execution_count": 27,
     "metadata": {},
     "output_type": "execute_result"
    }
   ],
   "source": [
    "df.columns"
   ]
  },
  {
   "cell_type": "code",
   "execution_count": 8,
   "metadata": {},
   "outputs": [],
   "source": [
    "ab = df[['Age','sexassault','report']]\n"
   ]
  },
  {
   "cell_type": "code",
   "execution_count": 9,
   "metadata": {},
   "outputs": [],
   "source": [
    "ab = ab[ab['sexassault']=='Yes']\n"
   ]
  },
  {
   "cell_type": "code",
   "execution_count": 10,
   "metadata": {},
   "outputs": [],
   "source": [
    "ss=ab.groupby(['Age','sexassault'],as_index=False).count()\n"
   ]
  },
  {
   "cell_type": "code",
   "execution_count": 11,
   "metadata": {},
   "outputs": [],
   "source": [
    "av = ab[ab['report']=='Yes'].groupby(['Age'],as_index=False).count()\n"
   ]
  },
  {
   "cell_type": "code",
   "execution_count": 62,
   "metadata": {},
   "outputs": [],
   "source": [
    "X = av['Age']\n",
    "Y = (av['report'] / ss['report'])*100"
   ]
  },
  {
   "cell_type": "code",
   "execution_count": 63,
   "metadata": {},
   "outputs": [],
   "source": [
    "fin1 = pd.concat([X,Y],axis=1)\n",
    "fin = fin1[:4]\n"
   ]
  },
  {
   "cell_type": "code",
   "execution_count": 64,
   "metadata": {},
   "outputs": [
    {
     "data": {
      "text/plain": [
       "<matplotlib.axes._subplots.AxesSubplot at 0x2bacf04bf88>"
      ]
     },
     "execution_count": 64,
     "metadata": {},
     "output_type": "execute_result"
    },
    {
     "data": {
      "image/png": "[encoded data removed]",
      "text/plain": [
       "<Figure size 432x288 with 1 Axes>"
      ]
     },
     "metadata": {
      "needs_background": "light"
     },
     "output_type": "display_data"
    }
   ],
   "source": [
    "fin.plot(x='Age',y='report',kind='bar',label=\"Percentage\",title=\"Percentage of Sexual Assaults reported- Age group\")"
   ]
  },
  {
   "cell_type": "code",
   "execution_count": 16,
   "metadata": {},
   "outputs": [],
   "source": [
    "prio = df[['Age','sexassault','priority']]\n",
    "prio = prio[prio['sexassault']=='Yes']\n"
   ]
  },
  {
   "cell_type": "code",
   "execution_count": 17,
   "metadata": {},
   "outputs": [],
   "source": [
    "prio1=prio.groupby(['Age','sexassault'],as_index=False).count()"
   ]
  },
  {
   "cell_type": "code",
   "execution_count": 18,
   "metadata": {},
   "outputs": [],
   "source": [
    "prioyes = prio[prio['priority'].isin(['Definitely yes','Probably yes'])].groupby('Age',as_index=False).count()\n"
   ]
  },
  {
   "cell_type": "code",
   "execution_count": 19,
   "metadata": {},
   "outputs": [],
   "source": [
    "X = prioyes['Age']\n",
    "Y = (prioyes['priority'] / prio1['priority'])*100"
   ]
  },
  {
   "cell_type": "code",
   "execution_count": 20,
   "metadata": {},
   "outputs": [],
   "source": [
    "fin1 = pd.concat([X,Y],axis=1)\n"
   ]
  },
  {
   "cell_type": "code",
   "execution_count": 56,
   "metadata": {},
   "outputs": [
    {
     "data": {
      "text/plain": [
       "<matplotlib.axes._subplots.AxesSubplot at 0x2bacf00ba48>"
      ]
     },
     "execution_count": 56,
     "metadata": {},
     "output_type": "execute_result"
    },
    {
     "data": {
      "image/png": "[encoded data removed]",
      "text/plain": [
       "<Figure size 432x288 with 1 Axes>"
      ]
     },
     "metadata": {
      "needs_background": "light"
     },
     "output_type": "display_data"
    }
   ],
   "source": [
    "fin1.plot(x='Age',y='priority',kind='bar',label=\"Percentage\",color=\"Green\",title=\"Percentage of Sexual Assault victims wants covid19 patients to be prioritized\")"
   ]
  },
  {
   "cell_type": "code",
   "execution_count": 22,
   "metadata": {},
   "outputs": [],
   "source": [
    "prev = df[['Age','sexassault','assaultprev']]\n",
    "prev = prev[prev['sexassault']=='Yes']\n",
    "count=prev.groupby(['sexassault'],as_index=False).count()\n",
    "count =count['assaultprev'].to_numpy()"
   ]
  },
  {
   "cell_type": "code",
   "execution_count": 23,
   "metadata": {},
   "outputs": [],
   "source": [
    "assaultprevyes = prev['assaultprev'].value_counts().to_numpy()\n"
   ]
  },
  {
   "cell_type": "code",
   "execution_count": 24,
   "metadata": {},
   "outputs": [],
   "source": [
    "Percentage = assaultprevyes[0]/count[0]*100\n",
    "NegativeP = 100-Percentage\n"
   ]
  },
  {
   "cell_type": "code",
   "execution_count": 54,
   "metadata": {},
   "outputs": [
    {
     "data": {
      "image/png": "[encoded data removed]",
      "text/plain": [
       "<Figure size 432x288 with 1 Axes>"
      ]
     },
     "metadata": {
      "needs_background": "light"
     },
     "output_type": "display_data"
    }
   ],
   "source": [
    "fig = plt.figure()\n",
    "ax = fig.add_axes([0,0,.8,.8])\n",
    "X = ['Yes','No']\n",
    "Y = [Percentage,NegativeP]\n",
    "ax.bar(X,Y,color=\"Red\",width=0.6)\n",
    "ax.set_ylabel('Percentage')\n",
    "ax.set_title('Percentage of victims sexually abused earlier')\n",
    "plt.show()"
   ]
  },
  {
   "cell_type": "code",
   "execution_count": 58,
   "metadata": {},
   "outputs": [],
   "source": [
    "trust = df[['sexassault','trustpolice']]\n"
   ]
  },
  {
   "cell_type": "code",
   "execution_count": 59,
   "metadata": {},
   "outputs": [],
   "source": [
    "trust_assault = trust[trust['sexassault']=='Yes']\n",
    "trust_assault_yes = trust_assault[trust_assault['trustpolice'].isin(['Definitely yes','Slightly yes'])].count()\n"
   ]
  },
  {
   "cell_type": "code",
   "execution_count": 57,
   "metadata": {},
   "outputs": [],
   "source": [
    "percent_trust_assault_yes = trust_assault_yes[0]/len(trust_assault)*100\n"
   ]
  },
  {
   "cell_type": "code",
   "execution_count": 60,
   "metadata": {},
   "outputs": [],
   "source": [
    "percent_trust_assault_no =100-percent_trust_assault_yes\n"
   ]
  },
  {
   "cell_type": "code",
   "execution_count": 55,
   "metadata": {},
   "outputs": [
    {
     "data": {
      "image/png": "[encoded data removed]",
      "text/plain": [
       "<Figure size 432x288 with 1 Axes>"
      ]
     },
     "metadata": {
      "needs_background": "light"
     },
     "output_type": "display_data"
    }
   ],
   "source": [
    "fig = plt.figure()\n",
    "ax = fig.add_axes([0,0,.8,.8])\n",
    "X = ['Yes','No']\n",
    "Y = [percent_trust_assault_yes,percent_trust_assault_no]\n",
    "ax.bar(X,Y,color=\"Blue\",width=0.6)\n",
    "ax.set_ylabel('Percentage')\n",
    "ax.set_title('Percentage of victims trust Police')\n",
    "plt.show()"
   ]
  },
  {
   "cell_type": "code",
   "execution_count": null,
   "metadata": {},
   "outputs": [],
   "source": []
  }
 ],
 "metadata": {
  "kernelspec": {
   "display_name": "Python 3",
   "language": "python",
   "name": "python3"
  },
  "language_info": {
   "codemirror_mode": {
    "name": "ipython",
    "version": 3
   },
   "file_extension": ".py",
   "mimetype": "text/x-python",
   "name": "python",
   "nbconvert_exporter": "python",
   "pygments_lexer": "ipython3",
   "version": "3.7.4"
  }
 },
 "nbformat": 4,
 "nbformat_minor": 4
}
